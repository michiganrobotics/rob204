{
 "cells": [
  {
   "cell_type": "markdown",
   "id": "38048db9",
   "metadata": {
    "editable": true,
    "slideshow": {
     "slide_type": ""
    },
    "tags": []
   },
   "source": [
    "# ROB 204 - Communication Lab"
   ]
  },
  {
   "cell_type": "code",
   "execution_count": null,
   "id": "076496dc-fd46-4a73-a007-6d098b69aa8d",
   "metadata": {
    "editable": true,
    "slideshow": {
     "slide_type": ""
    },
    "tags": [
     "remove-output"
    ]
   },
   "outputs": [],
   "source": [
    "# Import the helper file and instantiate the class\n",
    "from CommHelper import CommLab\n",
    "helper = CommLab()"
   ]
  },
  {
   "cell_type": "code",
   "execution_count": null,
   "id": "81d4f855-e3c9-4b83-8d5b-b0d7c3053567",
   "metadata": {
    "editable": true,
    "slideshow": {
     "slide_type": ""
    },
    "tags": []
   },
   "outputs": [],
   "source": [
    "# Write your custom yaw processing function here!\n",
    "#\n",
    "# self.setText(string) - sets the text below the displayed image\n",
    "# self.setEmbodimentYaw(yaw) - sets the angle of the embodiment servo motor\n",
    "\n",
    "def your_process_rotation(self, yaw):\n",
    "    if yaw > 20:\n",
    "        self.setText(\"👈\")\n",
    "        self.setEmbodimentYaw(-45)\n",
    "    elif yaw < -20:\n",
    "        self.setText(\"👉\")\n",
    "        self.setEmbodimentYaw(45)\n",
    "    else:\n",
    "        self.setText(\"🫵\")\n",
    "        self.setEmbodimentYaw(0)\n",
    "\n",
    "# Override the function with the custom function \n",
    "CommLab.process_rotation = your_process_rotation"
   ]
  },
  {
   "cell_type": "code",
   "execution_count": null,
   "id": "754a23db-578f-42d7-8a4a-45f0f3f99c65",
   "metadata": {
    "hidecell:toggle-remove-input": true,
    "slideshow": {
     "slide_type": ""
    },
    "tags": []
   },
   "outputs": [],
   "source": [
    "# Run the tracking!\n",
    "helper.run()"
   ]
  }
 ],
 "metadata": {
  "celltoolbar": "Edit Metadata",
  "kernelspec": {
   "display_name": "Python 3 (ipykernel)",
   "language": "python",
   "name": "python3"
  },
  "language_info": {
   "codemirror_mode": {
    "name": "ipython",
    "version": 3
   },
   "file_extension": ".py",
   "mimetype": "text/x-python",
   "name": "python",
   "nbconvert_exporter": "python",
   "pygments_lexer": "ipython3",
   "version": "3.11.2"
  }
 },
 "nbformat": 4,
 "nbformat_minor": 5
}
